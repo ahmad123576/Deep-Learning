{
  "nbformat": 4,
  "nbformat_minor": 0,
  "metadata": {
    "colab": {
      "provenance": [],
      "gpuType": "T4",
      "authorship_tag": "ABX9TyO4uflfIHIgysk7ShjLYw9e",
      "include_colab_link": true
    },
    "kernelspec": {
      "name": "python3",
      "display_name": "Python 3"
    },
    "language_info": {
      "name": "python"
    },
    "accelerator": "GPU"
  },
  "cells": [
    {
      "cell_type": "markdown",
      "metadata": {
        "id": "view-in-github",
        "colab_type": "text"
      },
      "source": [
        "<a href=\"https://colab.research.google.com/github/ahmad123576/Deep-Learning/blob/main/pipeline_prefetch%26cache.ipynb\" target=\"_parent\"><img src=\"https://colab.research.google.com/assets/colab-badge.svg\" alt=\"Open In Colab\"/></a>"
      ]
    },
    {
      "cell_type": "code",
      "execution_count": 1,
      "metadata": {
        "id": "x3KfoDSdElXf"
      },
      "outputs": [],
      "source": [
        "# optimize tensorflow pipeline performance with prefetch and cache"
      ]
    },
    {
      "cell_type": "code",
      "source": [
        "import tensorflow as tf\n",
        "import time"
      ],
      "metadata": {
        "id": "Pz_Yw1noE0PX"
      },
      "execution_count": 2,
      "outputs": []
    },
    {
      "cell_type": "code",
      "source": [
        "tf.__version__"
      ],
      "metadata": {
        "colab": {
          "base_uri": "https://localhost:8080/",
          "height": 35
        },
        "id": "Nhtsm56BE4Wk",
        "outputId": "daa7497e-ccb2-457e-a3c1-1b62acc47db0"
      },
      "execution_count": 3,
      "outputs": [
        {
          "output_type": "execute_result",
          "data": {
            "text/plain": [
              "'2.18.0'"
            ],
            "application/vnd.google.colaboratory.intrinsic+json": {
              "type": "string"
            }
          },
          "metadata": {},
          "execution_count": 3
        }
      ]
    },
    {
      "cell_type": "code",
      "source": [
        "# prefetch\n",
        "class Filedataset(tf.data.Dataset):\n",
        "    def read_files(self):\n",
        "      # oprning the file\n",
        "        time.sleep(0.03)\n",
        "\n",
        "        for sample_idx in range(10):\n",
        "          # reading data(line,record) from the file\n",
        "            yield (sample_idx,)\n",
        "\n",
        "    def __new__(cls, num_samples=3):\n",
        "      return tf.data.Dataset.from_generator(\n",
        "          cls.read_files,\n",
        "          output_signature=tf.TensorSpec(shape=(1,), dtype=tf.int64),\n",
        "          args=(num_samples,)\n",
        "      )\n"
      ],
      "metadata": {
        "id": "nPhnMkH_GZlg"
      },
      "execution_count": 4,
      "outputs": []
    },
    {
      "cell_type": "code",
      "source": [
        "def benchmark(dataset, num_epochs=2):\n",
        "  for epoch in range(num_epochs):\n",
        "    for sample in dataset:\n",
        "      # performing a training step\n",
        "      time.sleep(0.01)"
      ],
      "metadata": {
        "id": "RKrbENEKHI1_"
      },
      "execution_count": 5,
      "outputs": []
    },
    {
      "cell_type": "code",
      "source": [
        "%%timeit\n",
        "benchmark(Filedataset())"
      ],
      "metadata": {
        "colab": {
          "base_uri": "https://localhost:8080/"
        },
        "id": "2lJRPsnSHaRN",
        "outputId": "ea1f3b1b-6b30-49e1-feee-f86f5eb5b915"
      },
      "execution_count": 6,
      "outputs": [
        {
          "output_type": "stream",
          "name": "stdout",
          "text": [
            "466 ms ± 85.2 ms per loop (mean ± std. dev. of 7 runs, 1 loop each)\n"
          ]
        }
      ]
    },
    {
      "cell_type": "code",
      "source": [
        "%%timeit\n",
        "benchmark(Filedataset().prefetch(1))"
      ],
      "metadata": {
        "colab": {
          "base_uri": "https://localhost:8080/"
        },
        "id": "BTCDfaXQHgLk",
        "outputId": "6feef54e-c418-41c7-d445-467479c11f22"
      },
      "execution_count": 7,
      "outputs": [
        {
          "output_type": "stream",
          "name": "stdout",
          "text": [
            "353 ms ± 6.51 ms per loop (mean ± std. dev. of 7 runs, 1 loop each)\n"
          ]
        }
      ]
    },
    {
      "cell_type": "code",
      "source": [
        "%%timeit\n",
        "benchmark(Filedataset().prefetch(tf.data.AUTOTUNE))\n"
      ],
      "metadata": {
        "colab": {
          "base_uri": "https://localhost:8080/"
        },
        "id": "XXcjllVgHklV",
        "outputId": "f006609c-097d-40b4-9a2a-be20a401358f"
      },
      "execution_count": 8,
      "outputs": [
        {
          "output_type": "stream",
          "name": "stdout",
          "text": [
            "508 ms ± 143 ms per loop (mean ± std. dev. of 7 runs, 1 loop each)\n"
          ]
        }
      ]
    },
    {
      "cell_type": "code",
      "source": [
        "# as you noticed that prefetch improves our performance from 468ms to 389 and 388"
      ],
      "metadata": {
        "id": "whfi-89aHqZk"
      },
      "execution_count": 9,
      "outputs": []
    },
    {
      "cell_type": "code",
      "source": [
        "# cache"
      ],
      "metadata": {
        "id": "Y6RvEUckIBds"
      },
      "execution_count": 10,
      "outputs": []
    },
    {
      "cell_type": "code",
      "source": [
        "dataset=tf.data.Dataset.range(5)\n",
        "dataset=dataset.map(lambda x:x**2)\n",
        "dataset=dataset.cache(\"mycache.txt\")\n",
        "list(dataset.as_numpy_iterator())"
      ],
      "metadata": {
        "colab": {
          "base_uri": "https://localhost:8080/"
        },
        "id": "mD3gxjlUICws",
        "outputId": "a90c8c27-1f5d-4eb2-bed8-8f7ce9eb7616"
      },
      "execution_count": 13,
      "outputs": [
        {
          "output_type": "execute_result",
          "data": {
            "text/plain": [
              "[np.int64(0), np.int64(1), np.int64(4), np.int64(9), np.int64(16)]"
            ]
          },
          "metadata": {},
          "execution_count": 13
        }
      ]
    },
    {
      "cell_type": "code",
      "source": [
        "def mapped_function(s):\n",
        "  # do some hard pre-processing\n",
        "  tf.py_function(lambda: time.sleep(0.03), [], ())\n",
        "  return s"
      ],
      "metadata": {
        "id": "kDwc6MISIhxm"
      },
      "execution_count": 14,
      "outputs": []
    },
    {
      "cell_type": "code",
      "source": [
        "%%timeit\n",
        "benchmark(Filedataset().map(mapped_function),5)"
      ],
      "metadata": {
        "colab": {
          "base_uri": "https://localhost:8080/"
        },
        "id": "MoaFcDb-I7T8",
        "outputId": "c37eabdc-afb7-45ac-be4a-782f14e52000"
      },
      "execution_count": 16,
      "outputs": [
        {
          "output_type": "stream",
          "name": "stdout",
          "text": [
            "2.02 s ± 120 ms per loop (mean ± std. dev. of 7 runs, 1 loop each)\n"
          ]
        }
      ]
    },
    {
      "cell_type": "code",
      "source": [
        "%%timeit\n",
        "benchmark(Filedataset().map(mapped_function).cache(),5)"
      ],
      "metadata": {
        "colab": {
          "base_uri": "https://localhost:8080/"
        },
        "id": "RLHvd7sYJNZ9",
        "outputId": "851beffa-219f-4ebf-84a3-60f01c241751"
      },
      "execution_count": 17,
      "outputs": [
        {
          "output_type": "stream",
          "name": "stdout",
          "text": [
            "874 ms ± 56.3 ms per loop (mean ± std. dev. of 7 runs, 1 loop each)\n"
          ]
        }
      ]
    },
    {
      "cell_type": "code",
      "source": [
        "# performance improved"
      ],
      "metadata": {
        "id": "UHqqf5uVJYhW"
      },
      "execution_count": 18,
      "outputs": []
    },
    {
      "cell_type": "code",
      "source": [],
      "metadata": {
        "id": "TxyqAqHeJhpM"
      },
      "execution_count": null,
      "outputs": []
    }
  ]
}